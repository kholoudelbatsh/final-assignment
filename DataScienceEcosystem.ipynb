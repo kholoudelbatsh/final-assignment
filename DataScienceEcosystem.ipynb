{
 "cells": [
  {
   "cell_type": "markdown",
   "id": "b30fc44a-659c-4eef-b7b1-2b927ca3fd64",
   "metadata": {},
   "source": [
    "## Data Science Tools and Ecosystem"
   ]
  },
  {
   "cell_type": "markdown",
   "id": "7ffb1017-939e-4991-bf44-55c98a3ae43b",
   "metadata": {},
   "source": [
    "In this notebook, Data Science Tools and Ecosystem are summarized."
   ]
  },
  {
   "cell_type": "markdown",
   "id": "10baac00-6828-4e2b-adfc-e1e90899df5e",
   "metadata": {},
   "source": [
    "**Objectives:**\n",
    "* List popular languages for Data Science\n",
    "* List popular open source data science tools\n",
    "* List important data science libraries\n",
    "* Diferntiate between libraries and tools of data science"
   ]
  },
  {
   "cell_type": "markdown",
   "id": "ad57e5c1-1b22-4b4b-a546-a4507c7e12bf",
   "metadata": {},
   "source": [
    "Some of the popular languages that Data Scientists use are:\n",
    "1. Python\n",
    "2. R\n",
    "3. SQL"
   ]
  },
  {
   "cell_type": "markdown",
   "id": "47fac126-14e2-430c-8627-1962f5795701",
   "metadata": {},
   "source": [
    "Some of the commonly used libraries used by Data Scientists include:\n",
    "1. Pixie Dust\n",
    "2. Tensor flow\n",
    "3. machinelearn.js\r\n"
   ]
  },
  {
   "cell_type": "markdown",
   "id": "eacc12aa-f870-4920-aa47-9e60d072dd3c",
   "metadata": {},
   "source": [
    "| Data Science Tools |\n",
    "| --------------------- |\n",
    "| Apache AirFlow |\n",
    "| KubeFlow |\n",
    "| Apache Kafka |"
   ]
  },
  {
   "cell_type": "markdown",
   "id": "182b1c38-7801-4ae2-907b-5b83c15ee5e6",
   "metadata": {},
   "source": [
    "### Below are a few examples of evaluating arithmetic expressions in Python.\r\n"
   ]
  },
  {
   "cell_type": "code",
   "execution_count": 11,
   "id": "95e124b6-a699-43e7-9ff7-549653ac9ff6",
   "metadata": {},
   "outputs": [
    {
     "data": {
      "text/plain": [
       "17"
      ]
     },
     "execution_count": 11,
     "metadata": {},
     "output_type": "execute_result"
    }
   ],
   "source": [
    "# This a simple arithmetic expression to mutiply then add integers\n",
    "(3*4)+5"
   ]
  },
  {
   "cell_type": "code",
   "execution_count": 17,
   "id": "da0185d2-e8f0-4388-9b68-095cc7b86747",
   "metadata": {},
   "outputs": [
    {
     "name": "stdout",
     "output_type": "stream",
     "text": [
      "3.3333333333333335\n"
     ]
    }
   ],
   "source": [
    "#This will convert 200 minutes to hours by diving by 60\n",
    "minutes = 200\n",
    "hours = minutes / 60\n",
    "print (hours)"
   ]
  },
  {
   "cell_type": "markdown",
   "id": "5c24d7ff-9384-4f5a-9ab9-1671c7446f6d",
   "metadata": {},
   "source": [
    "## Author\n",
    "Kholoud Elbatsh"
   ]
  },
  {
   "cell_type": "code",
   "execution_count": null,
   "id": "f964b1e2-2be2-495f-8c63-da079196a2d4",
   "metadata": {},
   "outputs": [],
   "source": []
  }
 ],
 "metadata": {
  "kernelspec": {
   "display_name": "Python 3 (ipykernel)",
   "language": "python",
   "name": "python3"
  },
  "language_info": {
   "codemirror_mode": {
    "name": "ipython",
    "version": 3
   },
   "file_extension": ".py",
   "mimetype": "text/x-python",
   "name": "python",
   "nbconvert_exporter": "python",
   "pygments_lexer": "ipython3",
   "version": "3.12.4"
  }
 },
 "nbformat": 4,
 "nbformat_minor": 5
}
